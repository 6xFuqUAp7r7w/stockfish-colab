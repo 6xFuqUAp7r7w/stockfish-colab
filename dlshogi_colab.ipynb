{
  "nbformat": 4,
  "nbformat_minor": 0,
  "metadata": {
    "colab": {
      "name": "dlshogi_colab.ipynb",
      "provenance": [],
      "collapsed_sections": []
    },
    "kernelspec": {
      "name": "python3",
      "display_name": "Python 3"
    },
    "language_info": {
      "name": "python"
    }
  },
  "cells": [
    {
      "cell_type": "code",
      "execution_count": null,
      "metadata": {
        "colab": {
          "base_uri": "https://localhost:8080/"
        },
        "id": "e6kRkotnoAai",
        "outputId": "d081df7c-9c29-4366-97c3-5687617043a5"
      },
      "outputs": [
        {
          "output_type": "stream",
          "name": "stdout",
          "text": [
            "GPU 0: Tesla T4 (UUID: GPU-0b740607-f6b1-1f65-9817-d5606c3c623b)\n",
            "\n"
          ]
        }
      ],
      "source": [
        "import subprocess\n",
        "smi=subprocess.run([\"nvidia-smi\", \"-L\"], stdout=subprocess.PIPE)\n",
        "if smi.returncode != 0:\n",
        "  assert False, \"No GPU available!\"\n",
        "print(smi.stdout.decode())"
      ]
    },
    {
      "cell_type": "code",
      "execution_count": null,
      "metadata": {
        "id": "3hXfdDz11b0c"
      },
      "outputs": [],
      "source": [
        "# SSH configuration\n",
        "NGROK_TOKEN = 'your_ngrok_token'\n",
        "USER_PASSWORD = 'your_user_password'\n",
        "\n",
        "# Constant\n",
        "KATAGO_COLAB_REPOSITORY_URL = 'https://github.com/matobataketoshi/dlshogi-colab.git'\n",
        "KATAGO_RESOURCE_FILE = '/content/dlshogi-colab/colab-resource/external-resource.json'\n",
        "SSH_INFO_FILE_NAME = 'colab-katago-ssh.json'\n",
        "SSH_INFO_DIR = '/content/drive/MyDrive'\n",
        "\n",
        "# Install useful stuff\n",
        "!echo \"必要なライブラリをインストールします。\"\n",
        "!apt-get update 1>/dev/null\n",
        "!apt-get install --yes ssh screen nano htop ranger git libzip4 1>/dev/null\n",
        "!pip install -U -q PyDrive 1>/dev/null\n",
        "\n",
        "import subprocess\n",
        "from pydrive.auth import GoogleAuth\n",
        "from pydrive.drive import GoogleDrive\n",
        "from google.colab import auth\n",
        "from oauth2client.client import GoogleCredentials\n",
        "import requests\n",
        "import json\n",
        "import os\n",
        "from re import sub\n",
        "\n",
        "def get_katago_resource(katago_resource_file):\n",
        "    with open(katago_resource_file, 'r') as f:\n",
        "        resource = json.load(f)\n",
        "    return resource\n",
        "\n",
        "def save_ssh_info(dir, file_name):\n",
        "    file_path = dir + '/' + file_name\n",
        "    ssh_option = create_ssh_option()\n",
        "    file_id = get_file_id_in_drive(file_path)\n",
        "    if file_id is None:\n",
        "        file_id = upload_ssh_option_with_pydrive(file_name, ssh_option)\n",
        "    else:\n",
        "        ssh_option['fileId'] = file_id\n",
        "        write_ssh_option(file_path, ssh_option)\n",
        "    print('================================================================')\n",
        "    print('SSH_INFO_GOOGLE_DRIVE_FILE_ID: {}'.format(file_id))\n",
        "    print('================================================================')\n",
        "    return file_id\n",
        "\n",
        "def create_ssh_option():\n",
        "    ssh_option = None\n",
        "    try:\n",
        "        r = requests.get('http://localhost:4040/api/tunnels')\n",
        "        raw_ssh = r.json()['tunnels'][0]['public_url']\n",
        "        ssh_args = (sub(\"tcp://\", \"\", raw_ssh)).split(':')\n",
        "        ssh_option = {\n",
        "            'host': ssh_args[0],\n",
        "            'port': int(ssh_args[1]),\n",
        "            'user': 'root'\n",
        "        }\n",
        "    except Exception as e:\n",
        "        print('Failed to create SSH options. Make sure that the ngrok token is set correctly.')\n",
        "        raise e\n",
        "    return ssh_option\n",
        "\n",
        "def get_file_id_in_drive(file_path):\n",
        "    file_id = None\n",
        "    if (os.path.exists(file_path)):\n",
        "        try:\n",
        "            with open(file_path, 'r') as f:\n",
        "                ssh_option = json.load(f)\n",
        "                file_id = ssh_option.get('fileId')\n",
        "        except Exception as e:\n",
        "            file_id = None\n",
        "    return file_id\n",
        "\n",
        "def write_ssh_option(file_path, ssh_option):\n",
        "    print('Write SSH option: {}'.format(file_path))\n",
        "    with open(file_path, 'w') as f:\n",
        "        f.write(json.dumps(ssh_option))\n",
        " \n",
        "def upload_ssh_option_with_pydrive(file_name, ssh_option):\n",
        "    print('Authenticate to Google Drive')\n",
        "    drive = auth_google_drive()\n",
        "    file_metadata = {\n",
        "        'title': file_name,\n",
        "        'mimeType': 'application/json'\n",
        "    }\n",
        "    file_list = drive.ListFile({'q': 'title=\"' + file_name + '\" and trashed=False'}).GetList()\n",
        "    if (len(file_list) > 0):\n",
        "        file_metadata['id'] = file_list[0]['id']\n",
        "    ssh_option_file = drive.CreateFile(file_metadata)\n",
        "    ssh_option_file.Upload()\n",
        "    file_id = ssh_option_file.get('id')\n",
        "    ssh_option['fileId'] = file_id\n",
        "    ssh_option_file.SetContentString(json.dumps(ssh_option))\n",
        "    ssh_option_file.Upload()\n",
        "    ssh_option_file.InsertPermission({'type': 'anyone', 'value': 'anyone', 'role': 'reader'})\n",
        "    return file_id\n",
        "\n",
        "def auth_google_drive():\n",
        "    auth.authenticate_user()\n",
        "    gauth = GoogleAuth()\n",
        "    gauth.credentials = GoogleCredentials.get_application_default()\n",
        "    drive = GoogleDrive(gauth)\n",
        "    return drive\n",
        "\n",
        "%cd /content\n",
        "# Clone katago-colab\n",
        "!echo \"Gitから必要なファイルを受け取ります。\"\n",
        "!rm -rf katago-colab\n",
        "!git clone $KATAGO_COLAB_REPOSITORY_URL 1>/dev/null\n",
        "\n",
        "# Get URLs of external resources\n",
        "katago_resource = get_katago_resource(KATAGO_RESOURCE_FILE)\n",
        "ngrok_url = katago_resource['ngrok']\n",
        "\n",
        "# Download ngrok\n",
        "!wget -q $ngrok_url -O ngrok\n",
        "!chmod +x /content/ngrok\n",
        " \n",
        "# SSH setting\n",
        "!echo \"root:$USER_PASSWORD\" | chpasswd\n",
        "!echo \"PasswordAuthentication yes\" > /etc/ssh/sshd_config\n",
        "!echo \"PermitUserEnvironment yes\" >> /etc/ssh/sshd_config\n",
        "!echo \"PermitRootLogin yes\" >> /etc/ssh/sshd_config\n",
        "\n",
        "!mkdir -p /root/.ssh\n",
        "!service ssh restart > /dev/null\n",
        " \n",
        "# Run ngrok\n",
        "!echo \"ngrokを実行します。\"\n",
        "get_ipython().system_raw('./ngrok authtoken $NGROK_TOKEN && ./ngrok tcp 22 &')\n",
        "!sleep 5\n",
        "\n",
        "# Save SSH info to Google Drive\n",
        "!echo \"GoogleドライブにSSH接続情報を保存します。\"\n",
        "SSH_INFO_GOOGLE_DRIVE_FILE_ID = save_ssh_info(SSH_INFO_DIR, SSH_INFO_FILE_NAME)\n",
        "\n",
        "%cd /content\n",
        "!wget https://developer.download.nvidia.com/compute/cuda/repos/ubuntu1804/x86_64/libcudnn8_8.2.1.32-1+cuda11.3_amd64.deb\n",
        "!dpkg -i libcudnn8_8.2.1.32-1+cuda11.3_amd64.deb\n",
        "\n",
        "!wget https://developer.download.nvidia.com/compute/cuda/repos/ubuntu1804/x86_64/libnvinfer8_8.2.2-1+cuda11.4_amd64.deb\n",
        "!dpkg -i libnvinfer8_8.2.2-1+cuda11.4_amd64.deb\n",
        "!wget https://developer.download.nvidia.com/compute/cuda/repos/ubuntu1804/x86_64/libnvonnxparsers8_8.2.2-1+cuda11.4_amd64.deb\n",
        "!dpkg -i libnvonnxparsers8_8.2.2-1+cuda11.4_amd64.deb\n",
        "!wget https://developer.download.nvidia.com/compute/cuda/repos/ubuntu1804/x86_64/libnvparsers8_8.2.2-1+cuda11.4_amd64.deb\n",
        "!dpkg -i libnvparsers8_8.2.2-1+cuda11.4_amd64.deb\n",
        "!wget https://developer.download.nvidia.com/compute/cuda/repos/ubuntu1804/x86_64/libnvinfer-plugin8_8.2.2-1+cuda11.4_amd64.deb\n",
        "!dpkg -i libnvinfer-plugin8_8.2.2-1+cuda11.4_amd64.deb\n",
        "\n",
        "# Download KataGo binary\n",
        "!echo \"dlshogi実行ファイルを受け取ります。\"\n",
        "!wget -q https://github.com/matobataketoshi/dlshogi-colab/releases/download/dlshogi/dlshogi -O dlshogi\n",
        "!chmod +x /content/dlshogi\n",
        "!/content/dlshogi version\n",
        "\n",
        "#!wget https://github.com/TadaoYamaoka/DeepLearningShogi/releases/download/dr2_exhi/model-dr2_exhi.zip\n",
        "#!unzip -P dlshogi-dr2_exhi model-dr2_exhi.zip\n",
        "\n",
        "# Copy enviroment variable for SSH\n",
        "with open('/root/.ssh/environment','w') as f:\n",
        "    for key, value in os.environ.items():\n",
        "        print('{}={}'.format(key, value), file=f)\n",
        "\n",
        "!wget https://github.com/TadaoYamaoka/DeepLearningShogi/releases/download/dr2_exhi/model-dr2_exhi.zip\n",
        "!unzip -P dlshogi-dr2_exhi model-dr2_exhi.zip\n",
        "\n",
        "!./dlshogi\n",
        "\n",
        "!echo \"接続の準備が整いました! lizzieを接続できます...\"\n",
        "!echo \"lizzie engine 駆動命令 : .\\colab-katago-gd.exe $SSH_INFO_GOOGLE_DRIVE_FILE_ID $USER_PASSWORD\""
      ]
    },
    {
      "cell_type": "code",
      "source": [
        "%cd /content/drive/MyDrive\n",
        "!cp -r /content/DeepLearningShogi DeepLearningShogi"
      ],
      "metadata": {
        "colab": {
          "base_uri": "https://localhost:8080/"
        },
        "id": "WxNBmkNY4AoP",
        "outputId": "a6e02278-8cd4-4226-cd2e-6a3b42d2c4c2"
      },
      "execution_count": null,
      "outputs": [
        {
          "output_type": "stream",
          "name": "stdout",
          "text": [
            "/content/drive/MyDrive\n"
          ]
        }
      ]
    },
    {
      "cell_type": "code",
      "source": [
        "#setoption name DNN_Model value /content/model-dr2_exhi.onnx\n",
        "#setoption name UCT_Threads value 3\n",
        "#isready"
      ],
      "metadata": {
        "id": "U2EE-DKAG9jP"
      },
      "execution_count": null,
      "outputs": []
    },
    {
      "cell_type": "code",
      "source": [
        "#if readyok\n",
        "\n",
        "#position startpos\n",
        "#go byoyomi 5000"
      ],
      "metadata": {
        "id": "g-753fP5HFEZ"
      },
      "execution_count": null,
      "outputs": []
    },
    {
      "cell_type": "code",
      "source": [
        "!sudo python3 -mpip install -U cshogi"
      ],
      "metadata": {
        "id": "Pp1m8EDmHdgf"
      },
      "execution_count": null,
      "outputs": []
    }
  ]
}